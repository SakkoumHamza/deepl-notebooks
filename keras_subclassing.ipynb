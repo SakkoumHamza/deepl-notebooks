{
 "cells": [
  {
   "cell_type": "code",
   "execution_count": 5,
   "id": "52e16812",
   "metadata": {},
   "outputs": [],
   "source": [
    "import tensorflow as tf\n",
    "from keras.models import Model\n",
    "from keras.layers import Dense, Input, Concatenate ,Normalization\n",
    "from keras import backend as K"
   ]
  },
  {
   "cell_type": "code",
   "execution_count": 8,
   "id": "24d5a5e9",
   "metadata": {},
   "outputs": [],
   "source": [
    "K.clear_session()"
   ]
  },
  {
   "cell_type": "code",
   "execution_count": 6,
   "id": "a86d49cf",
   "metadata": {},
   "outputs": [],
   "source": [
    "\n",
    "\n",
    "class wide_and_deep(Model): \n",
    "    def __init__(self,units=30,activation=\"relu\",**kwargs): # Defining layers\n",
    "        super().__init__(**kwargs) # Needed to support naming the model \n",
    "        self.norm_layer_wide = Normalization()\n",
    "        self.norm_layer_deep = Normalization()\n",
    "        self.hidden1 = Dense(units,activation)\n",
    "        self.hidden2 = Dense(units,activation)\n",
    "        self.main_output = Dense(1)\n",
    "        self.aux_output = Dense(1)\n",
    "\n",
    "    def call(self,inputs): # Defining the forward pass\n",
    "        input_wide, input_deep = inputs\n",
    "\n",
    "        norm_wide = self.norm_layer_wide(input_wide)\n",
    "        norm_deep = self.norm_layer_wide(input_deep)\n",
    "\n",
    "        hidden1 = self.hidden1(norm_deep)\n",
    "        hidden2 = self.hidden2(hidden1)\n",
    "        concat = Concatenate([norm_wide,hidden2])\n",
    "\n",
    "        main_output= self,main_output(concat)\n",
    "        aux_output = self.aux_output(hidden2)\n",
    "        return main_output, aux_output"
   ]
  },
  {
   "cell_type": "code",
   "execution_count": 7,
   "id": "be27cf0c",
   "metadata": {},
   "outputs": [],
   "source": [
    "model = wide_and_deep(name=\"wide and deep model\")\n"
   ]
  }
 ],
 "metadata": {
  "kernelspec": {
   "display_name": "deepL",
   "language": "python",
   "name": "python3"
  },
  "language_info": {
   "codemirror_mode": {
    "name": "ipython",
    "version": 3
   },
   "file_extension": ".py",
   "mimetype": "text/x-python",
   "name": "python",
   "nbconvert_exporter": "python",
   "pygments_lexer": "ipython3",
   "version": "3.12.9"
  }
 },
 "nbformat": 4,
 "nbformat_minor": 5
}
